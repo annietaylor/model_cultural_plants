{
 "cells": [
  {
   "cell_type": "markdown",
   "metadata": {},
   "source": [
    "Annie Taylor\n",
    "2.27.22\n",
    "\n",
    "# Combine Result Rasters"
   ]
  },
  {
   "cell_type": "markdown",
   "metadata": {},
   "source": [
    "### Imports"
   ]
  },
  {
   "cell_type": "code",
   "execution_count": 1,
   "metadata": {},
   "outputs": [],
   "source": [
    "import arcpy\n",
    "import os\n",
    "import pandas as pd"
   ]
  },
  {
   "cell_type": "markdown",
   "metadata": {},
   "source": [
    "### Set Parameters"
   ]
  },
  {
   "cell_type": "code",
   "execution_count": 2,
   "metadata": {},
   "outputs": [],
   "source": [
    "arcpy.env.overwriteOutput = True\n",
    "arcpy.env.addOutputsToMap = False\n",
    "\n",
    "# The species/model to investigate\n",
    "code = 'QUKE'\n",
    "# codes = ['ARDO', 'CAME', 'CHPO', 'CLDO', 'COCO', 'QUKE', 'RUPA', 'RUUR', 'SACE', 'VAOV']\n",
    "codes = ['QUKE']\n",
    "# SAHM results folder\n",
    "# results = r\"D:/1_AMLT/1_SDM/SAHM/\" + code + \"/\"\n",
    "\n",
    "# folders to iterate over/into\n",
    "folders = ['brt_1', 'glm_1', 'mars_1', 'rf_1', 'Maxent_1']\n",
    "models = ['brt', 'glm', 'mars', 'rf', 'Maxent']\n",
    "\n",
    "# get two main projections and save study area outlines in each of those projections\n",
    "studyarea_wgs = r\"D:/1_AMLT/1_SDM/SDM_Pro/SDM.gdb/AMLT_StewardshipArea_UTM_10kmWGS84\"\n",
    "wgssr = arcpy.Describe(studyarea_wgs).spatialReference\n",
    "\n",
    "studyarea_utm = r\"D:/1_AMLT/1_SDM/SDM_Pro/SDM.gdb/AMLT_StewardshipArea_UTM_10km\"    \n",
    "utmsr = arcpy.Describe(studyarea_utm).spatialReference"
   ]
  },
  {
   "cell_type": "markdown",
   "metadata": {},
   "source": [
    "### Combine binary rasters into result rasters - iterate over all species at once"
   ]
  },
  {
   "cell_type": "code",
   "execution_count": 3,
   "metadata": {},
   "outputs": [
    {
     "name": "stdout",
     "output_type": "stream",
     "text": [
      "Saving to D:/1_AMLT/1_SDM/SAHM/OldRuns/QUKEmess8000/QUKEmess8000_AllBinary_WGS.tif\n",
      "Saving to D:/1_AMLT/1_SDM/SAHM/OldRuns/QUKEmess8000/QUKEmess8000_AllBinary_WGS_Clip.tif\n",
      "D:/1_AMLT/1_SDM/SAHM/OldRuns/QUKEmess8000/QUKEmess8000_AllBinary_UTM_Clip.tif projected\n"
     ]
    }
   ],
   "source": [
    "# codes = ['CAME']\n",
    "# models = ['brt', 'rf', 'Maxent']\n",
    "\n",
    "for code in codes:\n",
    "    results = r\"D:/1_AMLT/1_SDM/SAHM/\" + code + \"/\"\n",
    "    # create a list of all of the binary rasters\n",
    "    rasters = []\n",
    "\n",
    "    for model in models:\n",
    "        raster = results + model + '_1/' + model + '_bin_map.tif'\n",
    "        rasters.append(raster)\n",
    "\n",
    "    # print(rasters)\n",
    "\n",
    "    # initialize outras as the first raster in the list so that this resets each time I run the cell\n",
    "    outras = arcpy.Raster(rasters[0])\n",
    "    # iterate over the other rasters\n",
    "    for raster in rasters[1:]:\n",
    "        # Cast file name as raster to enable spatial analyst addition\n",
    "        listras = arcpy.Raster(raster)\n",
    "        # Add each raster to an output raster\n",
    "        outras += listras\n",
    "\n",
    "    # Save combined raster to file\n",
    "    outwgs = results + code + '_AllBinary_WGS.tif'\n",
    "    outwgsclip = results + code + '_AllBinary_WGS_Clip.tif'\n",
    "\n",
    "    # if you don't want to overwrite files use this\n",
    "    if os.path.exists(outwgs):\n",
    "        print('File ' + outwgs + ' already exists')\n",
    "    else:\n",
    "        print('Saving to ' + outwgs)\n",
    "        outras.save(outwgs)\n",
    "    # if you want to overwrite the file use this\n",
    "    # outras.save(outwgs)\n",
    "\n",
    "    # Save a clipped version of it\n",
    "    if os.path.exists(outwgsclip):\n",
    "        print('File ' + outwgsclip + ' already exists')\n",
    "    else:\n",
    "        print('Saving to ' + outwgsclip)\n",
    "        arcpy.management.Clip(outwgs, \"-122.476320553 36.138630725 -120.367393001 37.328780964\", outwgsclip, studyarea_wgs, clipping_geometry=\"ClippingGeometry\", maintain_clipping_extent=\"MAINTAIN_EXTENT\")\n",
    "\n",
    "    # Save a UTM projected version of the clipped version)\n",
    "    oututmclip = results + code + '_AllBinary_UTM_Clip.tif'\n",
    "\n",
    "    if os.path.exists(oututmclip):\n",
    "        print('File ' + oututmclip + ' already exists')\n",
    "    else:\n",
    "        insr = arcpy.Describe(outwgsclip).spatialReference\n",
    "        arcpy.management.ProjectRaster(outwgsclip, oututmclip, utmsr, \"NEAREST\", in_coor_system=insr, geographic_transform=\"WGS_1984_(ITRF08)_To_NAD_1983_2011\")\n",
    "        print(oututmclip + ' projected')\n",
    "\n"
   ]
  },
  {
   "cell_type": "markdown",
   "metadata": {},
   "source": [
    "### Threshold the agreement raster using 3+ models"
   ]
  },
  {
   "cell_type": "code",
   "execution_count": 4,
   "metadata": {},
   "outputs": [
    {
     "name": "stdout",
     "output_type": "stream",
     "text": [
      "Created D:/1_AMLT/1_SDM/SAHM/OldRuns/QUKEmess8000/QUKEmess8000_Threshold_2plus.tif\n"
     ]
    }
   ],
   "source": [
    "# codes = ['ARDO', 'CAME']\n",
    "for code in codes:\n",
    "    results = r\"D:/1_AMLT/1_SDM/SAHM/\" + code + \"/\"\n",
    "\n",
    "    outwgsclip = results + code + '_AllBinary_WGS_Clip.tif'\n",
    "    threshold = results + code + '_Threshold_2plus.tif'\n",
    "\n",
    "    # Save a clipped version of it\n",
    "    if os.path.exists(threshold):\n",
    "        print('File ' + threshold + ' already exists')\n",
    "    else:\n",
    "        out_raster = arcpy.sa.Reclassify(outwgsclip, \"VALUE\", \"0 1 0;2 5 1\", \"DATA\")\n",
    "        out_raster.save(threshold)\n",
    "        print('Created ' + threshold)"
   ]
  },
  {
   "cell_type": "markdown",
   "metadata": {},
   "source": [
    "### Add the threshold rasters to get a species count raster"
   ]
  },
  {
   "cell_type": "code",
   "execution_count": 12,
   "metadata": {},
   "outputs": [
    {
     "name": "stdout",
     "output_type": "stream",
     "text": [
      "['D:/1_AMLT/1_SDM/SAHM/ARDO/ARDO_Threshold_3plus.tif', 'D:/1_AMLT/1_SDM/SAHM/CAME/CAME_Threshold_3plus.tif', 'D:/1_AMLT/1_SDM/SAHM/CHPO/CHPO_Threshold_3plus.tif', 'D:/1_AMLT/1_SDM/SAHM/CLDO/CLDO_Threshold_3plus.tif', 'D:/1_AMLT/1_SDM/SAHM/COCO/COCO_Threshold_3plus.tif', 'D:/1_AMLT/1_SDM/SAHM/QUKE/QUKE_Threshold_3plus.tif', 'D:/1_AMLT/1_SDM/SAHM/RUPA/RUPA_Threshold_3plus.tif', 'D:/1_AMLT/1_SDM/SAHM/RUUR/RUUR_Threshold_3plus.tif', 'D:/1_AMLT/1_SDM/SAHM/SACE/SACE_Threshold_3plus.tif', 'D:/1_AMLT/1_SDM/SAHM/VAOV/VAOV_Threshold_3plus.tif']\n"
     ]
    }
   ],
   "source": [
    "\n",
    "# create a list of all of the threshold rasters\n",
    "rasters = []\n",
    "\n",
    "for code in codes:\n",
    "    results = r\"D:/1_AMLT/1_SDM/SAHM/\" + code + \"/\"\n",
    "    threshold = results + code + '_Threshold_3plus.tif'\n",
    "    rasters.append(threshold)\n",
    "\n",
    "print(rasters)\n",
    "\n",
    "# initialize outras as the first raster in the list so that this resets each time I run the cell\n",
    "outras = arcpy.Raster(rasters[0])\n",
    "# iterate over the other rasters\n",
    "for raster in rasters[1:]:\n",
    "    # Cast file name as raster to enable spatial analyst addition\n",
    "    listras = arcpy.Raster(raster)\n",
    "    # Add each raster to an output raster\n",
    "    outras += listras\n",
    "\n",
    "allcount = r\"D:\\1_AMLT\\1_SDM\\SDM_Pro\\SDM.gdb\\TenSpeciesCount\"\n",
    "\n",
    "# Save a clipped version of it\n",
    "if os.path.exists(allcount):\n",
    "    print('File ' + allcount + ' already exists')\n",
    "else:\n",
    "    outras.save(allcount)"
   ]
  },
  {
   "cell_type": "markdown",
   "metadata": {},
   "source": [
    "### Add Binary Rasters into one agreement raster (one at a time)"
   ]
  },
  {
   "cell_type": "code",
   "execution_count": 28,
   "metadata": {},
   "outputs": [
    {
     "name": "stdout",
     "output_type": "stream",
     "text": [
      "C:\\Users\\annal\\AppData\\Local\\Temp\\ArcGISProTemp1552\\xf4184088_dc1b_40b9_8735_ab0eb00b2107y0.afr\n",
      "File D:/1_AMLT/1_SDM/SAHM/ARDO/ARDO_AllBinary_WGS.tif already exists\n",
      "File D:/1_AMLT/1_SDM/SAHM/ARDO/ARDO_AllBinary_WGS_Clip.tif already exists\n",
      "D:/1_AMLT/1_SDM/SAHM/ARDO/ARDO_AllBinary_UTM.tif projected\n"
     ]
    }
   ],
   "source": [
    "# create a list of all of the binary rasters\n",
    "rasters = []\n",
    "\n",
    "for model in models:\n",
    "    raster = results + model + '_1/' + model + '_bin_map.tif'\n",
    "    rasters.append(raster)\n",
    "\n",
    "# print(rasters)\n",
    "\n",
    "# initialize outras as the first raster in the list so that this resets each time I run the cell\n",
    "outras = arcpy.Raster(rasters[0])\n",
    "# iterate over the other rasters\n",
    "for raster in rasters[1:]:\n",
    "    # Cast file name as raster to enable spatial analyst addition\n",
    "    listras = arcpy.Raster(raster)\n",
    "    # Add each raster to an output raster\n",
    "    outras += listras\n",
    "print(outras)\n",
    "\n",
    "# Save combined raster to file\n",
    "outwgs = results + code + '_AllBinary_WGS.tif'\n",
    "outwgsclip = results + code + '_AllBinary_WGS_Clip.tif'\n",
    "\n",
    "# if you don't want to overwrite files use this\n",
    "if os.path.exists(outwgs):\n",
    "    print('File ' + outwgs + ' already exists')\n",
    "else:\n",
    "    print('Saving to ' + outwgs)\n",
    "    outras.save(outwgs)\n",
    "# if you want to overwrite the file use this\n",
    "# outras.save(outwgs)\n",
    "\n",
    "# Save a clipped version of it\n",
    "if os.path.exists(outwgsclip):\n",
    "    print('File ' + outwgsclip + ' already exists')\n",
    "else:\n",
    "    print('Saving to ' + outwgsclip)\n",
    "    arcpy.management.Clip(outwgs, \"-122.476320553 36.138630725 -120.367393001 37.328780964\", outwgsclip, studyarea_wgs, clipping_geometry=\"ClippingGeometry\", maintain_clipping_extent=\"MAINTAIN_EXTENT\")\n",
    "\n",
    "# Save a UTM projected version of the clipped version)\n",
    "oututmclip = results + code + '_AllBinary_UTM_Clip.tif'\n",
    "\n",
    "if os.path.exists(oututmclip):\n",
    "    print('File ' + oututmclip + ' already exists')\n",
    "else:\n",
    "    insr = arcpy.Describe(outwgsclip).spatialReference\n",
    "    arcpy.management.ProjectRaster(outwgsclip, oututmclip, utmsr, \"NEAREST\", in_coor_system=insr, geographic_transform=\"WGS_1984_(ITRF08)_To_NAD_1983_2011\")\n",
    "    print(oututm + ' projected')"
   ]
  }
 ],
 "metadata": {
  "kernelspec": {
   "display_name": "ArcGISPro",
   "language": "Python",
   "name": "python3"
  },
  "language_info": {
   "file_extension": ".py",
   "name": "python",
   "version": "3"
  }
 },
 "nbformat": 4,
 "nbformat_minor": 2
}
