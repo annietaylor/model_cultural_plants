{
 "cells": [
  {
   "cell_type": "markdown",
   "id": "60692ab5",
   "metadata": {},
   "source": [
    "Annie Taylor\n",
    "5.31.22\n",
    "\n",
    "### Combine MESS Maps\n",
    "SAHM runs a Multivariate Environmental Similarity Surfaces (MESS) analysis on each model, which reveal parts of the study area where that model may be extrapolating beyond the range of values it was trained on. This script combines the MESS maps across each model for each species. \n"
   ]
  },
  {
   "cell_type": "markdown",
   "id": "7de5c6c4",
   "metadata": {},
   "source": [
    "#### Import packages"
   ]
  },
  {
   "cell_type": "code",
   "execution_count": 79,
   "id": "29f64d12",
   "metadata": {},
   "outputs": [],
   "source": [
    "import arcpy\n",
    "import os\n",
    "import pandas as pd\n",
    "arcpy.env.overwriteOutput = True\n",
    "arcpy.env.addOutputsToMap = False"
   ]
  },
  {
   "cell_type": "markdown",
   "id": "d24c1d7c",
   "metadata": {},
   "source": [
    "#### Set Parameters"
   ]
  },
  {
   "cell_type": "code",
   "execution_count": 80,
   "id": "087f7bbc",
   "metadata": {},
   "outputs": [],
   "source": [
    "# The species to investigate\n",
    "# codes = ['CHPO','QUKE','RUUR']\n",
    "codes = ['QUKE']\n",
    "\n",
    "# folders to iterate over/into, automatically created by SAHM based on models that you choose\n",
    "folders = ['brt_1', 'glm_1', 'mars_1', 'rf_1', 'Maxent_1']\n",
    "models = ['brt', 'glm', 'mars', 'rf', 'Maxent']\n",
    "\n",
    "# get two main projections and have study area outlines in each of those projections\n",
    "studyarea_wgs = r\"D:/1_AMLT/1_SDM/SDM_Pro/SDM.gdb/AMLT_StewardshipArea_UTM_10kmWGS84\"\n",
    "wgssr = arcpy.Describe(studyarea_wgs).spatialReference\n",
    "\n",
    "studyarea_utm = r\"D:/1_AMLT/1_SDM/SDM_Pro/SDM.gdb/AMLT_StewardshipArea_UTM_10km\"    \n",
    "utmsr = arcpy.Describe(studyarea_utm).spatialReference"
   ]
  },
  {
   "cell_type": "markdown",
   "id": "77bef44c",
   "metadata": {},
   "source": [
    "#### Get MESS Maps for each model run, reclassify to negative (extrapolation) and positive (fits training data) values"
   ]
  },
  {
   "cell_type": "code",
   "execution_count": 82,
   "id": "390ca605",
   "metadata": {
    "scrolled": true
   },
   "outputs": [
    {
     "name": "stdout",
     "output_type": "stream",
     "text": [
      "File D:/1_AMLT/1_SDM/SAHM/QUKE/brt_1/brt_bin_mess_map.tif already exists\n",
      "File D:/1_AMLT/1_SDM/SAHM/QUKE/glm_1/glm_bin_mess_map.tif already exists\n",
      "File D:/1_AMLT/1_SDM/SAHM/QUKE/mars_1/mars_bin_mess_map.tif already exists\n",
      "File D:/1_AMLT/1_SDM/SAHM/QUKE/rf_1/rf_bin_mess_map.tif already exists\n",
      "File D:/1_AMLT/1_SDM/SAHM/QUKE/Maxent_1/Maxent_bin_mess_map.tif already exists\n",
      "File D:/1_AMLT/1_SDM/SAHM/QUKE/QUKE_All_MESS.tif already exists\n",
      "File D:/1_AMLT/1_SDM/SAHM/QUKE/QUKE_All_MESS_Clip.tif already exists\n"
     ]
    }
   ],
   "source": [
    "for code in codes:\n",
    "    results = r\"D:/1_AMLT/1_SDM/SAHM/\" + code + \"/\"\n",
    "    # create a list of all of the MESS rasters\n",
    "    rasters = []\n",
    "\n",
    "    # save binary reclassifications of mess maps so that 1 = extrapolation, 0 = no problem\n",
    "    for model in models:\n",
    "        mess = results + model + '_1/' + model + '_mess_map.tif'\n",
    "        binmess = results + model + '_1/' + model + '_bin_mess_map.tif'\n",
    "       \n",
    "        if os.path.exists(binmess):\n",
    "            print('File ' + binmess + ' already exists')\n",
    "        else:\n",
    "            print('Reclassifying to ' + binmess)\n",
    "            outras = arcpy.sa.Reclassify(mess, \"VALUE\", \"-1000 -0.000010 1;-0.000010 1000 0\", \"DATA\")\n",
    "            outras.save(binmess)\n",
    "        rasters.append(binmess)\n",
    "    \n",
    "    # now add them together! \n",
    "    # initialize outras as the first raster in the list so that this resets each time I run the cell\n",
    "    outras = arcpy.Raster(rasters[0])\n",
    "    # iterate over the other rasters\n",
    "    for raster in rasters[1:]:\n",
    "        # Cast file name as raster to enable spatial analyst addition\n",
    "        listras = arcpy.Raster(raster)\n",
    "        # Add each raster to an output raster\n",
    "        outras += listras\n",
    "    # Save combined raster to file\n",
    "    outmess = results + code + '_All_MESS.tif'\n",
    "    outmessclip = results + code + '_All_MESS_Clip.tif'\n",
    "\n",
    "    # if you don't want to overwrite files use this\n",
    "    if os.path.exists(outmess):\n",
    "        print('File ' + outmess + ' already exists')\n",
    "    else:\n",
    "        print('Saving to ' + outmess)\n",
    "        outras.save(outmess)\n",
    "    # if you want to overwrite the file use this\n",
    "    # outras.save(outwgs)\n",
    "\n",
    "    # Save a clipped version of it\n",
    "    if os.path.exists(outmessclip):\n",
    "        print('File ' + outmessclip + ' already exists')\n",
    "    else:\n",
    "        print('Saving to ' + outmessclip)\n",
    "        arcpy.management.Clip(outmess, \"-122.476320553 36.138630725 -120.367393001 37.328780964\", outmessclip, studyarea_wgs, clipping_geometry=\"ClippingGeometry\", maintain_clipping_extent=\"MAINTAIN_EXTENT\")\n"
   ]
  }
 ],
 "metadata": {
  "kernelspec": {
   "display_name": "ArcGISPro",
   "language": "Python",
   "name": "python3"
  },
  "language_info": {
   "file_extension": ".py",
   "name": "python",
   "version": "3"
  }
 },
 "nbformat": 4,
 "nbformat_minor": 5
}
