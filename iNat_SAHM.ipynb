{
 "cells": [
  {
   "cell_type": "markdown",
   "metadata": {},
   "source": [
    "Annie Taylor\n",
    "1.4.2023\n",
    "\n",
    "# Download and Reformat iNaturalist Data"
   ]
  },
  {
   "cell_type": "markdown",
   "metadata": {},
   "source": [
    "#### Import packages and change arcpy defaults"
   ]
  },
  {
   "cell_type": "code",
   "execution_count": 15,
   "metadata": {},
   "outputs": [],
   "source": [
    "from pyinaturalist import *\n",
    "import pandas as pd\n",
    "import arcpy\n",
    "arcpy.env.overwriteOutput = True"
   ]
  },
  {
   "cell_type": "markdown",
   "metadata": {},
   "source": [
    "#### Import observations from inat API\n",
    "Change all four parameters each time you run it for a different species; a few examples are included below. \n",
    "The code parameter is the first two letters of each word in the plant's scientific name.\n",
    "Find the iNaturalist taxon id on wikipedia or https://www.inaturalist.org/taxa/47126-Plantae\n"
   ]
  },
  {
   "cell_type": "code",
   "execution_count": 16,
   "metadata": {
    "scrolled": false
   },
   "outputs": [],
   "source": [
    "name = 'blackoak'\n",
    "code = 'QUKE'\n",
    "species = 'Quercus kelloggii'\n",
    "taxon = 49919\n",
    "\n",
    "# name = 'soaproot'\n",
    "# code = 'CHPO'\n",
    "# species = 'Chlorogalum pomeridianum'\n",
    "# taxon = 47597\n",
    "\n",
    "# name = 'blackberry'\n",
    "# code = 'RUUR'\n",
    "# species = 'Rubus ursinus'\n",
    "# taxon = 53445\n",
    "\n",
    "# Specify criteria for observations\n",
    "# https://pyinaturalist.readthedocs.io/en/latest/modules/pyinaturalist.v1.observations.html#pyinaturalist.v1.observations.get_observations\n",
    "# my area = is roughly the AMLT stewardship area, change the four coordinate bounds to bound your study area\n",
    "response = get_observations(taxon_id=taxon, swlat = 36.077540, swlng = -122.605514, nelat = 37.381013, nelng = -120.292403, page='all', per_page=200, quality_grade='research')"
   ]
  },
  {
   "cell_type": "markdown",
   "metadata": {},
   "source": [
    "#### View the results in a pandas dataframe"
   ]
  },
  {
   "cell_type": "code",
   "execution_count": 51,
   "metadata": {
    "scrolled": true
   },
   "outputs": [
    {
     "data": {
      "text/html": [
       "<div>\n",
       "<style scoped>\n",
       "    .dataframe tbody tr th:only-of-type {\n",
       "        vertical-align: middle;\n",
       "    }\n",
       "\n",
       "    .dataframe tbody tr th {\n",
       "        vertical-align: top;\n",
       "    }\n",
       "\n",
       "    .dataframe thead th {\n",
       "        text-align: right;\n",
       "    }\n",
       "</style>\n",
       "<table border=\"1\" class=\"dataframe\">\n",
       "  <thead>\n",
       "    <tr style=\"text-align: right;\">\n",
       "      <th></th>\n",
       "      <th>lat</th>\n",
       "      <th>lon</th>\n",
       "      <th>quality_grade</th>\n",
       "      <th>time_observed_at</th>\n",
       "      <th>species_name</th>\n",
       "      <th>taxon.preferred_common_name</th>\n",
       "      <th>positional_accuracy</th>\n",
       "      <th>public_positional_accuracy</th>\n",
       "    </tr>\n",
       "  </thead>\n",
       "  <tbody>\n",
       "    <tr>\n",
       "      <th>0</th>\n",
       "      <td>37.176597</td>\n",
       "      <td>-121.519333</td>\n",
       "      <td>research</td>\n",
       "      <td>None</td>\n",
       "      <td>Quercus kelloggii</td>\n",
       "      <td>California black oak</td>\n",
       "      <td>NaN</td>\n",
       "      <td>NaN</td>\n",
       "    </tr>\n",
       "    <tr>\n",
       "      <th>1</th>\n",
       "      <td>36.364000</td>\n",
       "      <td>-121.561667</td>\n",
       "      <td>research</td>\n",
       "      <td>2013-06-17T10:39:29-07:00</td>\n",
       "      <td>Quercus kelloggii</td>\n",
       "      <td>California black oak</td>\n",
       "      <td>NaN</td>\n",
       "      <td>NaN</td>\n",
       "    </tr>\n",
       "    <tr>\n",
       "      <th>2</th>\n",
       "      <td>37.291085</td>\n",
       "      <td>-122.057652</td>\n",
       "      <td>research</td>\n",
       "      <td>2014-03-07T15:18:52-08:00</td>\n",
       "      <td>Quercus kelloggii</td>\n",
       "      <td>California black oak</td>\n",
       "      <td>5.0</td>\n",
       "      <td>28417.0</td>\n",
       "    </tr>\n",
       "    <tr>\n",
       "      <th>3</th>\n",
       "      <td>37.171149</td>\n",
       "      <td>-121.496220</td>\n",
       "      <td>research</td>\n",
       "      <td>None</td>\n",
       "      <td>Quercus kelloggii</td>\n",
       "      <td>California black oak</td>\n",
       "      <td>80.0</td>\n",
       "      <td>80.0</td>\n",
       "    </tr>\n",
       "    <tr>\n",
       "      <th>4</th>\n",
       "      <td>37.245260</td>\n",
       "      <td>-121.727447</td>\n",
       "      <td>research</td>\n",
       "      <td>None</td>\n",
       "      <td>Quercus kelloggii</td>\n",
       "      <td>California black oak</td>\n",
       "      <td>48.0</td>\n",
       "      <td>10000.0</td>\n",
       "    </tr>\n",
       "    <tr>\n",
       "      <th>5</th>\n",
       "      <td>37.290580</td>\n",
       "      <td>-122.154708</td>\n",
       "      <td>research</td>\n",
       "      <td>2015-03-14T08:49:27-07:00</td>\n",
       "      <td>Quercus kelloggii</td>\n",
       "      <td>California black oak</td>\n",
       "      <td>NaN</td>\n",
       "      <td>NaN</td>\n",
       "    </tr>\n",
       "    <tr>\n",
       "      <th>6</th>\n",
       "      <td>36.358546</td>\n",
       "      <td>-121.806450</td>\n",
       "      <td>research</td>\n",
       "      <td>2015-08-26T15:41:00-07:00</td>\n",
       "      <td>Quercus kelloggii</td>\n",
       "      <td>California black oak</td>\n",
       "      <td>106.0</td>\n",
       "      <td>106.0</td>\n",
       "    </tr>\n",
       "    <tr>\n",
       "      <th>7</th>\n",
       "      <td>37.274333</td>\n",
       "      <td>-122.139130</td>\n",
       "      <td>research</td>\n",
       "      <td>None</td>\n",
       "      <td>Quercus kelloggii</td>\n",
       "      <td>California black oak</td>\n",
       "      <td>538.0</td>\n",
       "      <td>538.0</td>\n",
       "    </tr>\n",
       "  </tbody>\n",
       "</table>\n",
       "</div>"
      ],
      "text/plain": [
       "         lat         lon  ... positional_accuracy public_positional_accuracy\n",
       "0  37.176597 -121.519333  ...                 NaN                        NaN\n",
       "1  36.364000 -121.561667  ...                 NaN                        NaN\n",
       "2  37.291085 -122.057652  ...                 5.0                    28417.0\n",
       "3  37.171149 -121.496220  ...                80.0                       80.0\n",
       "4  37.245260 -121.727447  ...                48.0                    10000.0\n",
       "5  37.290580 -122.154708  ...                 NaN                        NaN\n",
       "6  36.358546 -121.806450  ...               106.0                      106.0\n",
       "7  37.274333 -122.139130  ...               538.0                      538.0\n",
       "\n",
       "[8 rows x 8 columns]"
      ]
     },
     "execution_count": 51,
     "metadata": {},
     "output_type": "execute_result"
    }
   ],
   "source": [
    "# Select results from JSON Data, and normalize them\n",
    "# This flattens the nested iNat data structure and converts to pandas dataframe\n",
    "data = response['results']\n",
    "df = pd.json_normalize(data)\n",
    "\n",
    "# Split the location data into latitude and Longitude columns\n",
    "# this is the format of location col [38.8418469038, -123.0608224869]\n",
    "df['lat'] = df['location'].apply(lambda x:x[0])\n",
    "df['lon'] = df['location'].apply(lambda x:x[1])\n",
    "\n",
    "# Subset dataframe to include only the fields of interest\n",
    "df = df[['lat','lon','quality_grade','time_observed_at','taxon.name','taxon.preferred_common_name','positional_accuracy','public_positional_accuracy']]\n",
    "df = df.rename({'taxon.name': 'species_name'}, axis=1)\n",
    "\n",
    "# Show the first 8 lines of the dataframe below cell\n",
    "df.head(8)"
   ]
  },
  {
   "cell_type": "markdown",
   "metadata": {},
   "source": [
    "#### Define a function to convert the dataframe into a feature class for use in ArcGIS Pro"
   ]
  },
  {
   "cell_type": "code",
   "execution_count": 52,
   "metadata": {},
   "outputs": [],
   "source": [
    "# This is a user-defined function to push dataframe into arcgis feature class\n",
    "def addData(fc, occurrences):\n",
    "    arcpy.management.DeleteRows(fc)\n",
    "    cursor = arcpy.da.InsertCursor(fc, [\"SHAPE@XY\",\"lat\",\"lon\",\"quality_grade\", \"time_observed_at\",\"species_name\",\"positional_accuracy\",\"public_positional_accuracy\"])\n",
    "\n",
    "    for index, row in occurrences.iterrows():\n",
    "        xy = (row['lon'],row['lat'])\n",
    "        cursor.insertRow([xy,row['lat'], row['lon'], row['quality_grade'], row['time_observed_at'], row['species_name'], row['positional_accuracy'],row['public_positional_accuracy']])\n",
    "    del cursor"
   ]
  },
  {
   "cell_type": "markdown",
   "metadata": {},
   "source": [
    "#### Create a feature class with the correct fields to hold the iNat data"
   ]
  },
  {
   "cell_type": "code",
   "execution_count": 53,
   "metadata": {},
   "outputs": [],
   "source": [
    "# Define your workspace and geodatabase\n",
    "workspace = \"D:/1_AMLT/2_Ethnobotanical_Data_Pro/iNaturalist/\"\n",
    "\n",
    "# If file geodatabase already exists, name of file geodatabase\n",
    "filegdbname = \"iNat.gdb\"\n",
    "filegdb = f'{workspace}{filegdbname}'\n",
    "\n",
    "# # if file geodatabase does not exist, creates file geodatabase\n",
    "# if (arcpy.Exists(filegdb)) == False:\n",
    "#     arcpy.management.CreateFileGDB(workspace, filegdbname[:-4], \"CURRENT\")\n",
    "\n",
    "# Create a feature class within the geodatabase to add the iNat data to\n",
    "fc = name # ie \"blackoak\"\n",
    "fcPath = f'{filegdb}/{fc}' \n",
    "\n",
    "# If feature class does not exist, create feature class\n",
    "if (arcpy.Exists(fcPath)) == False:\n",
    "    arcpy.management.CreateFeatureclass(filegdb, fc, \"POINT\", None, \"DISABLED\", \"DISABLED\", 'GEOGCS[\"GCS_WGS_1984\",DATUM[\"D_WGS_1984\",SPHEROID[\"WGS_1984\",6378137.0,298.257223563]],PRIMEM[\"Greenwich\",0.0],UNIT[\"Degree\",0.0174532925199433]];-400 -400 1000000000;-100000 10000;-100000 10000;8.98315284119521E-09;0.001;0.001;IsHighPrecision', '', 0, 0, 0, '')\n",
    "\n",
    "    # Fields to create in feature class\n",
    "    fields = (\"lat DOUBLE # # # #;\" +\n",
    "        \"lon DOUBLE # # # #;\" +\n",
    "        \"quality_grade TEXT # 255 # #;\" +\n",
    "        \"time_observed_at TEXT # 255 # #;\" +\n",
    "        \"species_name TEXT # 255 # #;\" +\n",
    "        \"positional_accuracy DOUBLE # # # #;\" +\n",
    "        \"public_positional_accuracy DOUBLE # # # #\")\n",
    "\n",
    "    arcpy.management.AddFields(name, fields) \n"
   ]
  },
  {
   "cell_type": "markdown",
   "metadata": {},
   "source": [
    "#### Add iNat data from the dataframe to the newly created feature class"
   ]
  },
  {
   "cell_type": "code",
   "execution_count": 55,
   "metadata": {},
   "outputs": [],
   "source": [
    "addData(fcPath, df)"
   ]
  },
  {
   "cell_type": "markdown",
   "metadata": {},
   "source": [
    "### Processing iNat data for use in SAHM"
   ]
  },
  {
   "cell_type": "markdown",
   "metadata": {},
   "source": [
    "#### Project and clip iNat data"
   ]
  },
  {
   "cell_type": "code",
   "execution_count": 57,
   "metadata": {},
   "outputs": [
    {
     "name": "stdout",
     "output_type": "stream",
     "text": [
      "blackoak\n",
      "Total features in iNat database =  517\n"
     ]
    }
   ],
   "source": [
    "print(name)\n",
    "# Project to my SDM projection and clip to study area\n",
    "output = \"D:/1_AMLT/1_SDM/SDM_Pro/SDM.gdb/iNat_\" + code\n",
    "area = \"D:/1_AMLT/1_SDM/SDM_Pro/SDM.gdb/BoundingBox\" \n",
    "outsr = arcpy.Describe(area).spatialReference\n",
    "\n",
    "arcpy.management.Project(fcPath, output, outsr)\n",
    "\n",
    "# # Clip to study area boundary if necessary\n",
    "# inat = output + \"_SDM\"\n",
    "# arcpy.analysis.Clip(output, area, inat)\n",
    "\n",
    "# print number of records/points\n",
    "result = arcpy.GetCount_management(output)\n",
    "count = int(result.getOutput(0))\n",
    "print('Total features in iNat database = ', count)"
   ]
  },
  {
   "cell_type": "markdown",
   "metadata": {},
   "source": [
    "#### Get any points from my ethnobotanical data\n",
    "Note: this will not work on your computer as it is a confidential dataset.\n",
    "You may adapt this block to any private/local location datasets that you may have. "
   ]
  },
  {
   "cell_type": "code",
   "execution_count": 59,
   "metadata": {},
   "outputs": [
    {
     "name": "stdout",
     "output_type": "stream",
     "text": [
      "blackoak\n",
      "Species LIKE '%Quercus kelloggii%'\n",
      "Creating My_QUKE_forSAHM\n",
      "Total features in my database =  0\n"
     ]
    }
   ],
   "source": [
    "print(name)\n",
    "# this layer has to be in the active map\n",
    "# select from the layer by species name\n",
    "ethnobot = \"All_EthnobotData_Merged_012521\"\n",
    "\n",
    "search = \"Species LIKE '%\" + species + \"%'\"\n",
    "print(search)\n",
    "\n",
    "arcpy.management.SelectLayerByAttribute(ethnobot, \"NEW_SELECTION\", search)\n",
    "\n",
    "# export data\n",
    "gdb = \"D:/1_AMLT/1_SDM/SDM_Pro/SDM.gdb/\"\n",
    "out_name = \"My_\" + code + \"_forSAHM\"\n",
    "\n",
    "print('Creating ' + out_name)\n",
    "arcpy.conversion.FeatureClassToFeatureClass(ethnobot, gdb, out_name)\n",
    "\n",
    "# clear selection\n",
    "arcpy.management.SelectLayerByAttribute(ethnobot, \"CLEAR_SELECTION\")\n",
    "\n",
    "# print number of records/points\n",
    "result = arcpy.GetCount_management(out_name)\n",
    "count = int(result.getOutput(0))\n",
    "print('Total features in my database = ', count)"
   ]
  },
  {
   "cell_type": "markdown",
   "metadata": {},
   "source": [
    "#### Merge iNat and personal data\n",
    "And print the total number of location points"
   ]
  },
  {
   "cell_type": "code",
   "execution_count": 60,
   "metadata": {},
   "outputs": [
    {
     "name": "stdout",
     "output_type": "stream",
     "text": [
      "blackoak\n",
      "Merging inat and ethnobot db into one output\n",
      "Total features in combined layer =  517\n"
     ]
    }
   ],
   "source": [
    "print(name)\n",
    "# merge the two into one in SDM.gdb, saved as 'All_****_forSAHM'\n",
    "inat = \"D:/1_AMLT/1_SDM/SDM_Pro/SDM.gdb/iNat_\" + code\n",
    "ethno = \"D:/1_AMLT/1_SDM/SDM_Pro/SDM.gdb/My_\" + code + \"_forSAHM\"\n",
    "allpoints = \"D:/1_AMLT/1_SDM/SDM_Pro/SDM.gdb/All_\" + code + \"_forSAHM\"\n",
    "\n",
    "print('Merging inat and ethnobot db into one output')\n",
    "arcpy.management.Merge([inat, ethno], allpoints)\n",
    "\n",
    "# print number of records/points\n",
    "result = arcpy.GetCount_management(allpoints)\n",
    "count = int(result.getOutput(0))\n",
    "print('Total features in combined layer = ', count)\n",
    "# this fc is ready to use, already in WGS84 (best for SAHM)"
   ]
  },
  {
   "cell_type": "markdown",
   "metadata": {},
   "source": [
    "#### Add a field called 'code' and set to 1\n",
    "This is necessary for location input data in SAHM"
   ]
  },
  {
   "cell_type": "code",
   "execution_count": 61,
   "metadata": {},
   "outputs": [
    {
     "name": "stdout",
     "output_type": "stream",
     "text": [
      "blackoak\n",
      "Field added\n"
     ]
    }
   ],
   "source": [
    "print(name)\n",
    "# allpoints = \"D:/1_AMLT/1_SDM/SDM_Pro/SDM.gdb/All_\" + code + \"_forSAHM\"\n",
    "# add field named as species code\n",
    "arcpy.AddField_management(allpoints, code, \"LONG\")\n",
    "# set to one\n",
    "arcpy.management.CalculateField(allpoints, code, 1)\n",
    "print('Field added')"
   ]
  },
  {
   "cell_type": "markdown",
   "metadata": {},
   "source": [
    "### Remove location points that fall within the same analysis cell"
   ]
  },
  {
   "cell_type": "markdown",
   "metadata": {},
   "source": [
    "#### Convert point data to raster\n",
    "Processing environment = template raster for projection, cell size, snapping, and extent. \n",
    "Use code field as value, cell assignment rule = max"
   ]
  },
  {
   "cell_type": "code",
   "execution_count": 62,
   "metadata": {},
   "outputs": [
    {
     "name": "stdout",
     "output_type": "stream",
     "text": [
      "blackoak\n",
      "Raster created\n"
     ]
    }
   ],
   "source": [
    "print(name)\n",
    "# Convert these points to a raster\n",
    "template = r\"D:\\1_AMLT\\1_SDM\\SAHM\\CovariatesFinal\\bio_1_temp.tif\"\n",
    "pointras = r\"D:\\1_AMLT\\1_SDM\\SDM_Pro\\SDM.gdb\\All_\" + code + \"_forSAHM_Raster\"\n",
    "\n",
    "with arcpy.EnvManager(snapRaster=template, cellSize=template):\n",
    "    arcpy.conversion.PointToRaster(allpoints, code, pointras, \"MAXIMUM\",\"NONE\", template, \"BUILD\")\n",
    "\n",
    "print('Raster created')"
   ]
  },
  {
   "cell_type": "markdown",
   "metadata": {},
   "source": [
    "#### Convert that raster to points\n",
    "Using centroids, print number of remaining points"
   ]
  },
  {
   "cell_type": "code",
   "execution_count": 63,
   "metadata": {
    "scrolled": true
   },
   "outputs": [
    {
     "name": "stdout",
     "output_type": "stream",
     "text": [
      "blackoak\n",
      "Points from raster created\n",
      "Total features in final point layer =  228\n"
     ]
    }
   ],
   "source": [
    "print(name)\n",
    "# convert raster to points (centroids)\n",
    "finalpoints = r\"D:\\1_AMLT\\1_SDM\\SDM_Pro\\SDM.gdb\\All_\" + code + \"_forSAHM_FromRaster\"\n",
    "\n",
    "arcpy.conversion.RasterToPoint(pointras, finalpoints)\n",
    "print('Points from raster created')\n",
    "\n",
    "# print number of records/points\n",
    "result = arcpy.GetCount_management(finalpoints)\n",
    "count = int(result.getOutput(0))\n",
    "print('Total features in final point layer = ', count)"
   ]
  },
  {
   "cell_type": "markdown",
   "metadata": {},
   "source": [
    "### Add final fields needed in the locations csv file"
   ]
  },
  {
   "cell_type": "markdown",
   "metadata": {},
   "source": [
    "#### Add fields for lat as y, long as x in WGS84, responseBinary with 1s, species code column with 1s\n",
    "Once these SAHM-required fields are added, export the locations as a csv for direct input in your models"
   ]
  },
  {
   "cell_type": "code",
   "execution_count": 64,
   "metadata": {},
   "outputs": [
    {
     "name": "stdout",
     "output_type": "stream",
     "text": [
      "blackoak\n",
      "Fields added\n",
      "Exported to csv\n"
     ]
    }
   ],
   "source": [
    "print(name)\n",
    "sppLocation = r\"D:\\1_AMLT\\1_SDM\\SAHM\\SpeciesLocations\"\n",
    "csvfile = \"All_\" + code + \"_forSAHM_FromRaster.csv\"\n",
    "\n",
    "# add field named as species code\n",
    "arcpy.AddField_management(finalpoints, code, \"LONG\")\n",
    "# set to one\n",
    "arcpy.management.CalculateField(finalpoints, code, 1)\n",
    "\n",
    "# add field named responseBinary\n",
    "arcpy.AddField_management(finalpoints, 'resposeBinary', \"LONG\")\n",
    "# set to one\n",
    "arcpy.management.CalculateField(finalpoints, 'resposeBinary', 1)\n",
    "\n",
    "# add fields x and y\n",
    "arcpy.AddField_management(finalpoints, 'x', \"DOUBLE\")\n",
    "arcpy.AddField_management(finalpoints, 'y', \"DOUBLE\")\n",
    "# calculate lat and long coordinate values in WGS84\n",
    "arcpy.management.CalculateGeometryAttributes(finalpoints, \"x POINT_X;y POINT_Y\", '', '', 'GEOGCS[\"GCS_WGS_1984\",DATUM[\"D_WGS_1984\",SPHEROID[\"WGS_1984\",6378137.0,298.257223563]],PRIMEM[\"Greenwich\",0.0],UNIT[\"Degree\",0.0174532925199433]]', \"DD\")\n",
    "\n",
    "print('Fields added')\n",
    "\n",
    "# deleting three unnecessary fields\n",
    "arcpy.DeleteField_management(finalpoints, [\"grid_code\", \"pointid\", \"bio_1_temp_1\"])\n",
    "\n",
    "# Export the table to a csv file for input into SAHM\n",
    "arcpy.TableToTable_conversion(finalpoints, sppLocation, csvfile)\n",
    "print('Exported to csv')"
   ]
  }
 ],
 "metadata": {
  "kernelspec": {
   "display_name": "ArcGISPro",
   "language": "Python",
   "name": "python3"
  },
  "language_info": {
   "file_extension": ".py",
   "name": "python",
   "version": "3"
  }
 },
 "nbformat": 4,
 "nbformat_minor": 2
}
