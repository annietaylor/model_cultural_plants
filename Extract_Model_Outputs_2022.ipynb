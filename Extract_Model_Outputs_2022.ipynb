{
 "cells": [
  {
   "cell_type": "markdown",
   "id": "5c61d7b1",
   "metadata": {},
   "source": [
    "Annie Taylor\n",
    "2.21.22\n",
    "\n",
    "## Extract AUC values from SAHM model output files\n",
    "SAHM outputs key output values to text files within each model's folder. This script iterates through each models output files to find the key assessment values and then adds them to three separate csv files for comparison: AUC, percent correctly classified, and mean variable importance."
   ]
  },
  {
   "cell_type": "markdown",
   "id": "df11ecce",
   "metadata": {},
   "source": [
    "#### Import packages"
   ]
  },
  {
   "cell_type": "code",
   "execution_count": 73,
   "id": "c0eefd59",
   "metadata": {},
   "outputs": [],
   "source": [
    "import pandas as pd\n",
    "import numpy as np\n",
    "import os\n",
    "import csv\n",
    "from IPython.display import display"
   ]
  },
  {
   "cell_type": "markdown",
   "id": "c5331a45",
   "metadata": {},
   "source": [
    "#### Set Parameters"
   ]
  },
  {
   "cell_type": "code",
   "execution_count": 74,
   "id": "396700f0",
   "metadata": {},
   "outputs": [],
   "source": [
    "# The species to investigate, can do one at a time or iterate over many species\n",
    "codes = ['QUKE']\n",
    "# codes = ['CHPO','QUKE','RUUR']\n",
    "\n",
    "# models to iterate over, folders are automatically created by SAHM based on the models you run\n",
    "# folders = ['brt_1', 'glm_1', 'mars_1', 'rf_1', 'Maxent_1']\n",
    "models = ['brt', 'glm', 'mars', 'rf', 'Maxent']"
   ]
  },
  {
   "cell_type": "markdown",
   "id": "6bfd25fa",
   "metadata": {},
   "source": [
    "#### Get AUC values for each model (test/train and cross validation runs) "
   ]
  },
  {
   "cell_type": "code",
   "execution_count": 75,
   "id": "9153e122",
   "metadata": {
    "scrolled": true
   },
   "outputs": [
    {
     "name": "stdout",
     "output_type": "stream",
     "text": [
      "AUC values\n",
      "test/train {'brt': 0.9181, 'glm': 0.8534, 'mars': 0.8648, 'rf': 0.868, 'Maxent': 0.8939, 'mean': 0.87964}\n",
      "cross validation {'brt': 0.86031, 'glm': 0.8468, 'mars': 0.85378, 'rf': 0.86916, 'Maxent': 0.85823, 'mean': 0.8576560000000001}\n"
     ]
    }
   ],
   "source": [
    "for code in codes: \n",
    "    # SAHM results folder, change this to your file path\n",
    "    results = r\"D:/1_AMLT/1_SDM/SAHM/\" + code + \"/\"\n",
    "    # models = models[:1]\n",
    "    AUCresults = {}\n",
    "    AUCtrainResults = {}\n",
    "\n",
    "    # Loop through all of the folders to extract the test/train and CV AUCs one at a time\n",
    "    for model in models: \n",
    "        filepath = results + model + '_1/' + model + '_output.txt'\n",
    "        f = open(filepath, 'r') # open in read mode\n",
    "        content = f.readlines()\n",
    "        # find the list index (line) with 'test/training split'\n",
    "        ind1 = content.index('Evaluation Statistics applied to train split:\\n')\n",
    "        # find the list index (line) with 'crossValidation'\n",
    "        ind = content.index('Evaluation Statistics applied to crossValidation split:\\n')\n",
    "        substring = 'AUC'\n",
    "\n",
    "        # first get the test/train AUC\n",
    "        AUCtrainline = [string for string in content[ind1:ind] if substring in string][0]\n",
    "        AUCtrainval = AUCtrainline[34:41]\n",
    "        # add value to dictionary using model name as the key\n",
    "        AUCtrainResults[model] = float(AUCtrainval)\n",
    "\n",
    "        # then get the cross validation AUC\n",
    "        AUCline = [string for string in content[ind:] if substring in string][0]\n",
    "        # extract AUC value from that string, average across models\n",
    "        AUCval = AUCline[34:41]\n",
    "        # add value to dictionary using model name as the key\n",
    "        AUCresults[model] = float(AUCval)\n",
    "\n",
    "        f.close()\n",
    "\n",
    "    # print both dictionaries\n",
    "    print('AUC values')\n",
    "\n",
    "    AUCtrainResults['mean'] = np.array(list(AUCtrainResults.values())).mean()\n",
    "    print('test/train', AUCtrainResults)\n",
    "\n",
    "    AUCresults['mean'] = np.array(list(AUCresults.values())).mean()\n",
    "    print('cross validation', AUCresults)"
   ]
  },
  {
   "cell_type": "markdown",
   "id": "2fd41ef2",
   "metadata": {},
   "source": [
    "#### Write these results to an existing csv file for comparisons"
   ]
  },
  {
   "cell_type": "code",
   "execution_count": 6,
   "id": "4678380e",
   "metadata": {},
   "outputs": [],
   "source": [
    "file = r'D:/1_AMLT/1_SDM/SAHM/AUC_Comparisons.csv'\n",
    "\n",
    "with open(file, 'a') as f:\n",
    "    # add the test/training AUC to csv\n",
    "    for key in AUCtrainResults.keys():\n",
    "        f.write(code + '_' + key + '_AUC_train' + ',')\n",
    "    f.write('\\n')\n",
    "    for key in AUCtrainResults.keys():\n",
    "        f.write(str(AUCtrainResults[key]) + ',')\n",
    "    f.write('\\n')\n",
    "    \n",
    "    # add the cross validation PCC to csv\n",
    "    for key in AUCresults.keys():\n",
    "        f.write(code + '_' + key + '_AUC_CV' + ',')\n",
    "    f.write('\\n')\n",
    "    for key in AUCresults.keys():\n",
    "        f.write(str(AUCresults[key]) + ',')\n",
    "    f.write('\\n')"
   ]
  },
  {
   "cell_type": "markdown",
   "id": "07e0d690",
   "metadata": {},
   "source": [
    "#### Get the percent correctly classified in test/train and CV runs"
   ]
  },
  {
   "cell_type": "code",
   "execution_count": 76,
   "id": "60077f02",
   "metadata": {},
   "outputs": [
    {
     "name": "stdout",
     "output_type": "stream",
     "text": [
      "Percent correctly classified\n",
      "test/train {'brt': 83.9056, 'glm': 77.0011, 'mars': 77.5754, 'rf': 80.4839, 'Maxent': 81.557, 'mean': 80.1046}\n",
      "cross validation {'brt': 86.0443, 'glm': 76.7197, 'mars': 78.5774, 'rf': 89.4785, 'Maxent': 80.8722, 'mean': 82.33842000000001}\n"
     ]
    }
   ],
   "source": [
    "for code in codes: \n",
    "    # SAHM results folder\n",
    "    results = r\"D:/1_AMLT/1_SDM/SAHM/\" + code + \"/\"\n",
    "    # models = models[:1]\n",
    "    PCCresults = {}\n",
    "    PCCtrainResults = {}\n",
    "\n",
    "    # Loop through all of the folders to extract the test/train and CV AUCs one at a time\n",
    "    for model in models: \n",
    "        filepath = results + model + '_1/' + model + '_output.txt'\n",
    "        f = open(filepath, 'r') # open in read mode\n",
    "        content = f.readlines()\n",
    "        # find the list index (line) with 'test/training split'\n",
    "        ind1 = content.index('Evaluation Statistics applied to train split:\\n')\n",
    "        # find the list index (line) with 'crossValidation'\n",
    "        ind = content.index('Evaluation Statistics applied to crossValidation split:\\n')\n",
    "        substring = 'Percent Correctly Classified'\n",
    "\n",
    "        # first get the test/train AUC\n",
    "        PCCtrainline = [string for string in content[ind1:ind] if substring in string][0]\n",
    "        PCCtrainval = PCCtrainline[34:41]\n",
    "        # add value to dictionary using model name as the key\n",
    "        PCCtrainResults[model] = float(PCCtrainval)\n",
    "\n",
    "        # then get the CV AUC\n",
    "        PCCline = [string for string in content[ind:] if substring in string][0]\n",
    "        # extract AUC value from that string, constant across models\n",
    "        PCCval = PCCline[34:41]\n",
    "        # add value to dictionary using model name as the key\n",
    "        PCCresults[model] = float(PCCval)\n",
    "\n",
    "        f.close()\n",
    "\n",
    "    # print both dictionaries\n",
    "    print('Percent correctly classified')\n",
    "    PCCtrainResults['mean'] = np.array(list(PCCtrainResults.values())).mean()\n",
    "    print('test/train', PCCtrainResults)\n",
    "\n",
    "    PCCresults['mean'] = np.array(list(PCCresults.values())).mean()\n",
    "    print('cross validation', PCCresults)"
   ]
  },
  {
   "cell_type": "markdown",
   "id": "53e2c997",
   "metadata": {},
   "source": [
    "#### Save PCC results to an existing csv file"
   ]
  },
  {
   "cell_type": "code",
   "execution_count": 6,
   "id": "be241fd9",
   "metadata": {},
   "outputs": [],
   "source": [
    "file = r'D:/1_AMLT/1_SDM/SAHM/PCC_Comparisons.csv'\n",
    "\n",
    "with open(file, 'a') as f:\n",
    "    # add the test/training PCC to csv\n",
    "    for key in PCCtrainResults.keys():\n",
    "        f.write(code + '_' + key + '_PCC_train' + ',')\n",
    "    f.write('\\n')\n",
    "    for key in PCCtrainResults.keys():\n",
    "        f.write(str(PCCtrainResults[key]) + ',')\n",
    "    f.write('\\n')\n",
    "    \n",
    "    # add the cross validation PCC to csv\n",
    "    for key in PCCresults.keys():\n",
    "        f.write(code + '_' + key + '_PCC_CV' + ',')\n",
    "    f.write('\\n')\n",
    "    for key in PCCresults.keys():\n",
    "        f.write(str(PCCresults[key]) + ',')\n",
    "    f.write('\\n')"
   ]
  },
  {
   "cell_type": "markdown",
   "id": "19b47201",
   "metadata": {},
   "source": [
    "#### Get Mean Variable Importance for each model"
   ]
  },
  {
   "cell_type": "code",
   "execution_count": 77,
   "id": "4c1bda2b",
   "metadata": {},
   "outputs": [
    {
     "data": {
      "text/html": [
       "<div>\n",
       "<style scoped>\n",
       "    .dataframe tbody tr th:only-of-type {\n",
       "        vertical-align: middle;\n",
       "    }\n",
       "\n",
       "    .dataframe tbody tr th {\n",
       "        vertical-align: top;\n",
       "    }\n",
       "\n",
       "    .dataframe thead th {\n",
       "        text-align: right;\n",
       "    }\n",
       "</style>\n",
       "<table border=\"1\" class=\"dataframe\">\n",
       "  <thead>\n",
       "    <tr style=\"text-align: right;\">\n",
       "      <th></th>\n",
       "      <th>brt</th>\n",
       "      <th>glm</th>\n",
       "      <th>mars</th>\n",
       "      <th>Maxent</th>\n",
       "      <th>rf</th>\n",
       "      <th>Mean</th>\n",
       "    </tr>\n",
       "    <tr>\n",
       "      <th>QUKE</th>\n",
       "      <th></th>\n",
       "      <th></th>\n",
       "      <th></th>\n",
       "      <th></th>\n",
       "      <th></th>\n",
       "      <th></th>\n",
       "    </tr>\n",
       "  </thead>\n",
       "  <tbody>\n",
       "    <tr>\n",
       "      <th>bio_3</th>\n",
       "      <td>21.168727</td>\n",
       "      <td>21.483091</td>\n",
       "      <td>24.124182</td>\n",
       "      <td>25.539273</td>\n",
       "      <td>12.094909</td>\n",
       "      <td>20.882036</td>\n",
       "    </tr>\n",
       "    <tr>\n",
       "      <th>bio_6</th>\n",
       "      <td>NaN</td>\n",
       "      <td>5.196909</td>\n",
       "      <td>13.550182</td>\n",
       "      <td>7.898364</td>\n",
       "      <td>3.993636</td>\n",
       "      <td>7.659773</td>\n",
       "    </tr>\n",
       "    <tr>\n",
       "      <th>bio_13</th>\n",
       "      <td>12.289273</td>\n",
       "      <td>5.078000</td>\n",
       "      <td>5.192727</td>\n",
       "      <td>10.797091</td>\n",
       "      <td>4.815273</td>\n",
       "      <td>7.634473</td>\n",
       "    </tr>\n",
       "    <tr>\n",
       "      <th>bio_15</th>\n",
       "      <td>NaN</td>\n",
       "      <td>4.212727</td>\n",
       "      <td>2.611636</td>\n",
       "      <td>0.550364</td>\n",
       "      <td>2.305818</td>\n",
       "      <td>2.420136</td>\n",
       "    </tr>\n",
       "    <tr>\n",
       "      <th>bio_1_temp</th>\n",
       "      <td>NaN</td>\n",
       "      <td>NaN</td>\n",
       "      <td>4.716000</td>\n",
       "      <td>1.281455</td>\n",
       "      <td>0.827273</td>\n",
       "      <td>2.274909</td>\n",
       "    </tr>\n",
       "    <tr>\n",
       "      <th>Slope</th>\n",
       "      <td>NaN</td>\n",
       "      <td>NaN</td>\n",
       "      <td>1.358727</td>\n",
       "      <td>1.626727</td>\n",
       "      <td>1.353091</td>\n",
       "      <td>1.446182</td>\n",
       "    </tr>\n",
       "    <tr>\n",
       "      <th>Elevation</th>\n",
       "      <td>NaN</td>\n",
       "      <td>NaN</td>\n",
       "      <td>0.629636</td>\n",
       "      <td>0.692182</td>\n",
       "      <td>1.609455</td>\n",
       "      <td>0.977091</td>\n",
       "    </tr>\n",
       "    <tr>\n",
       "      <th>Aspect</th>\n",
       "      <td>NaN</td>\n",
       "      <td>NaN</td>\n",
       "      <td>0.422364</td>\n",
       "      <td>0.265455</td>\n",
       "      <td>0.507273</td>\n",
       "      <td>0.398364</td>\n",
       "    </tr>\n",
       "    <tr>\n",
       "      <th>YearsSinceRxBurn</th>\n",
       "      <td>NaN</td>\n",
       "      <td>NaN</td>\n",
       "      <td>0.000000</td>\n",
       "      <td>0.044182</td>\n",
       "      <td>0.042545</td>\n",
       "      <td>0.028909</td>\n",
       "    </tr>\n",
       "  </tbody>\n",
       "</table>\n",
       "</div>"
      ],
      "text/plain": [
       "                        brt        glm  ...         rf       Mean\n",
       "QUKE                                    ...                      \n",
       "bio_3             21.168727  21.483091  ...  12.094909  20.882036\n",
       "bio_6                   NaN   5.196909  ...   3.993636   7.659773\n",
       "bio_13            12.289273   5.078000  ...   4.815273   7.634473\n",
       "bio_15                  NaN   4.212727  ...   2.305818   2.420136\n",
       "bio_1_temp              NaN        NaN  ...   0.827273   2.274909\n",
       "Slope                   NaN        NaN  ...   1.353091   1.446182\n",
       "Elevation               NaN        NaN  ...   1.609455   0.977091\n",
       "Aspect                  NaN        NaN  ...   0.507273   0.398364\n",
       "YearsSinceRxBurn        NaN        NaN  ...   0.042545   0.028909\n",
       "\n",
       "[9 rows x 6 columns]"
      ]
     },
     "metadata": {},
     "output_type": "display_data"
    }
   ],
   "source": [
    "for code in codes: \n",
    "    # SAHM results folder\n",
    "    results = r\"D:/1_AMLT/1_SDM/SAHM/\" + code + \"/\"\n",
    "\n",
    "    # models = models[:1]\n",
    "    model_dfs = []\n",
    "\n",
    "    # Loop through all of the folders to extract the test/train and CV AUCs one at a time\n",
    "    for model in models: \n",
    "        filepath = results + model + '_1/ExpandedOutput/VariableImportance.csv'\n",
    "        # read csv into pandas df with axis renamed\n",
    "        df = pd.read_csv(filepath).set_index('predictor').T.rename_axis(model).rename_axis(None, axis=1)\n",
    "        # take the mean of each column (predictor)  and convert to percentages\n",
    "        df_means = df.mean(axis = 0, skipna = True)*100\n",
    "        # convert series to pandas df\n",
    "        df_means = df_means.to_frame().rename(columns = {0: model})\n",
    "        # add it to a list of dataframes\n",
    "        model_dfs.append(df_means)\n",
    "\n",
    "    # combine all of the dataframes into one ready for export\n",
    "    all_means_df = pd.concat(model_dfs, axis=1, ignore_index=False).rename_axis(code)\n",
    "\n",
    "    # add a column with the mean var importance and sort by highest mean\n",
    "    all_means_df['Mean'] = all_means_df.mean(numeric_only=True, axis=1)\n",
    "    all_means_df = all_means_df.sort_values(by='Mean', ascending=False)\n",
    "\n",
    "    # reorder the columns to match alphabetical order like in chapter\n",
    "    all_means_df = all_means_df[['brt', 'glm', 'mars', 'Maxent', 'rf', 'Mean']]\n",
    "    display(all_means_df)\n",
    "    \n",
    "    # add to csv file\n",
    "    file = r'D:/1_AMLT/1_SDM/SAHM/MeanVariableImportances.csv'\n",
    "    all_means_df.to_csv(file, mode='a')"
   ]
  }
 ],
 "metadata": {
  "kernelspec": {
   "display_name": "ArcGISPro",
   "language": "Python",
   "name": "python3"
  },
  "language_info": {
   "file_extension": ".py",
   "name": "python",
   "version": "3"
  }
 },
 "nbformat": 4,
 "nbformat_minor": 5
}
