{
 "cells": [
  {
   "cell_type": "markdown",
   "metadata": {},
   "source": [
    "#### Import packages and change arcpy defaults"
   ]
  },
  {
   "cell_type": "code",
   "execution_count": 1,
   "metadata": {},
   "outputs": [
    {
     "ename": "ModuleNotFoundError",
     "evalue": "No module named 'pyinaturalist'",
     "output_type": "error",
     "traceback": [
      "\u001b[1;31m---------------------------------------------------------------------------\u001b[0m",
      "\u001b[1;31mModuleNotFoundError\u001b[0m                       Traceback (most recent call last)",
      "\u001b[1;32m~\\AppData\\Local\\Temp/ipykernel_14096/3412337023.py\u001b[0m in \u001b[0;36m<module>\u001b[1;34m\u001b[0m\n\u001b[1;32m----> 1\u001b[1;33m \u001b[1;32mfrom\u001b[0m \u001b[0mpyinaturalist\u001b[0m \u001b[1;32mimport\u001b[0m \u001b[1;33m*\u001b[0m\u001b[1;33m\u001b[0m\u001b[1;33m\u001b[0m\u001b[0m\n\u001b[0m\u001b[0;32m      2\u001b[0m \u001b[1;32mimport\u001b[0m \u001b[0mpandas\u001b[0m \u001b[1;32mas\u001b[0m \u001b[0mpd\u001b[0m\u001b[1;33m\u001b[0m\u001b[1;33m\u001b[0m\u001b[0m\n\u001b[0;32m      3\u001b[0m \u001b[1;32mimport\u001b[0m \u001b[0marcpy\u001b[0m\u001b[1;33m\u001b[0m\u001b[1;33m\u001b[0m\u001b[0m\n\u001b[0;32m      4\u001b[0m \u001b[1;33m\u001b[0m\u001b[0m\n\u001b[0;32m      5\u001b[0m \u001b[0marcpy\u001b[0m\u001b[1;33m.\u001b[0m\u001b[0menv\u001b[0m\u001b[1;33m.\u001b[0m\u001b[0moverwriteOutput\u001b[0m \u001b[1;33m=\u001b[0m \u001b[1;32mTrue\u001b[0m\u001b[1;33m\u001b[0m\u001b[1;33m\u001b[0m\u001b[0m\n",
      "\u001b[1;31mModuleNotFoundError\u001b[0m: No module named 'pyinaturalist'"
     ]
    }
   ],
   "source": [
    "from pyinaturalist import *\n",
    "import pandas as pd\n",
    "import arcpy\n",
    "\n",
    "arcpy.env.overwriteOutput = True"
   ]
  },
  {
   "cell_type": "markdown",
   "metadata": {},
   "source": [
    "#### Import observations from inat API\n",
    "Change all four parameters each time you run it for a different species; a few examples are included below. \n",
    "The code parameter is the first two letters of each word in the plant's scientific name.\n",
    "Find the iNaturalist taxon id on wikipedia or https://www.inaturalist.org/taxa/47126-Plantae\n"
   ]
  },
  {
   "cell_type": "code",
   "execution_count": 135,
   "metadata": {},
   "outputs": [
    {
     "name": "stderr",
     "output_type": "stream",
     "text": [
      "This request is larger than recommended for API usage. For bulk requests, consider using the iNat export tool instead: https://www.inaturalist.org/observations/export\n"
     ]
    },
    {
     "ename": "MemoryError",
     "evalue": "",
     "output_type": "error",
     "traceback": [
      "\u001b[0;31m---------------------------------------------------------------------------\u001b[0m\n\u001b[0;31mMemoryError\u001b[0m                               Traceback (most recent call last)",
      "In  \u001b[0;34m[135]\u001b[0m:\nLine \u001b[0;34m86\u001b[0m:    response = get_observations(taxon_id=taxon, swlat = \u001b[34m36.077540\u001b[39;49;00m, swlng = -\u001b[34m122.605514\u001b[39;49;00m, nelat = \u001b[34m37.381013\u001b[39;49;00m, nelng = -\u001b[34m120.292403\u001b[39;49;00m, page=\u001b[33m'\u001b[39;49;00m\u001b[33mall\u001b[39;49;00m\u001b[33m'\u001b[39;49;00m, per_page=\u001b[34m200\u001b[39;49;00m, quality_grade=\u001b[33m'\u001b[39;49;00m\u001b[33mresearch\u001b[39;49;00m\u001b[33m'\u001b[39;49;00m)\n",
      "File \u001b[0;34mC:\\Users\\annal\\AppData\\Local\\ESRI\\conda\\envs\\CalAdaptINat\\Lib\\site-packages\\forge\\_revision.py\u001b[0m, in \u001b[0;32minner\u001b[0m:\nLine \u001b[0;34m328\u001b[0m:   \u001b[34mreturn\u001b[39;49;00m callable(*mapped.args, **mapped.kwargs)\n",
      "File \u001b[0;34mC:\\Users\\annal\\AppData\\Local\\ESRI\\conda\\envs\\CalAdaptINat\\Lib\\site-packages\\pyinaturalist\\pagination.py\u001b[0m, in \u001b[0;32mwrapper\u001b[0m:\nLine \u001b[0;34m26\u001b[0m:    \u001b[34mreturn\u001b[39;49;00m paginate_all(func, *args, method=method, **params)\n",
      "File \u001b[0;34mC:\\Users\\annal\\AppData\\Local\\ESRI\\conda\\envs\\CalAdaptINat\\Lib\\site-packages\\pyinaturalist\\pagination.py\u001b[0m, in \u001b[0;32mpaginate_all\u001b[0m:\nLine \u001b[0;34m79\u001b[0m:    page_results = api_func(**params).get(\u001b[33m'\u001b[39;49;00m\u001b[33mresults\u001b[39;49;00m\u001b[33m'\u001b[39;49;00m, [])\n",
      "File \u001b[0;34mC:\\Users\\annal\\AppData\\Local\\ESRI\\conda\\envs\\CalAdaptINat\\Lib\\site-packages\\pyinaturalist\\v1\\observations.py\u001b[0m, in \u001b[0;32mget_observations\u001b[0m:\nLine \u001b[0;34m149\u001b[0m:   response = get_v1(\u001b[33m'\u001b[39;49;00m\u001b[33mobservations\u001b[39;49;00m\u001b[33m'\u001b[39;49;00m, **params)\n",
      "File \u001b[0;34mC:\\Users\\annal\\AppData\\Local\\ESRI\\conda\\envs\\CalAdaptINat\\Lib\\site-packages\\pyinaturalist\\v1\\__init__.py\u001b[0m, in \u001b[0;32mget_v1\u001b[0m:\nLine \u001b[0;34m16\u001b[0m:    \u001b[34mreturn\u001b[39;49;00m get(\u001b[33mf\u001b[39;49;00m\u001b[33m'\u001b[39;49;00m\u001b[33m{\u001b[39;49;00mAPI_V1_BASE_URL\u001b[33m}\u001b[39;49;00m\u001b[33m/\u001b[39;49;00m\u001b[33m{\u001b[39;49;00mendpoint\u001b[33m}\u001b[39;49;00m\u001b[33m'\u001b[39;49;00m, **kwargs)\n",
      "File \u001b[0;34mC:\\Users\\annal\\AppData\\Local\\ESRI\\conda\\envs\\CalAdaptINat\\Lib\\site-packages\\forge\\_revision.py\u001b[0m, in \u001b[0;32minner\u001b[0m:\nLine \u001b[0;34m328\u001b[0m:   \u001b[34mreturn\u001b[39;49;00m callable(*mapped.args, **mapped.kwargs)\n",
      "File \u001b[0;34mC:\\Users\\annal\\AppData\\Local\\ESRI\\conda\\envs\\CalAdaptINat\\Lib\\site-packages\\pyinaturalist\\api_requests.py\u001b[0m, in \u001b[0;32mget\u001b[0m:\nLine \u001b[0;34m229\u001b[0m:   \u001b[34mreturn\u001b[39;49;00m request(\u001b[33m'\u001b[39;49;00m\u001b[33mGET\u001b[39;49;00m\u001b[33m'\u001b[39;49;00m, url, **kwargs)\n",
      "File \u001b[0;34mC:\\Users\\annal\\AppData\\Local\\ESRI\\conda\\envs\\CalAdaptINat\\Lib\\site-packages\\pyinaturalist\\api_requests.py\u001b[0m, in \u001b[0;32mrequest\u001b[0m:\nLine \u001b[0;34m175\u001b[0m:   response = session.send(request)\n",
      "File \u001b[0;34mC:\\Users\\annal\\AppData\\Local\\ESRI\\conda\\envs\\CalAdaptINat\\Lib\\site-packages\\pyinaturalist\\api_requests.py\u001b[0m, in \u001b[0;32msend\u001b[0m:\nLine \u001b[0;34m119\u001b[0m:   \u001b[34mreturn\u001b[39;49;00m \u001b[36msuper\u001b[39;49;00m().send(request, **kwargs)\n",
      "File \u001b[0;34mC:\\Users\\annal\\AppData\\Local\\ESRI\\conda\\envs\\CalAdaptINat\\Lib\\site-packages\\requests_cache\\session.py\u001b[0m, in \u001b[0;32msend\u001b[0m:\nLine \u001b[0;34m132\u001b[0m:   response = \u001b[36mself\u001b[39;49;00m._send_and_cache(request, actions, **kwargs)\n",
      "File \u001b[0;34mC:\\Users\\annal\\AppData\\Local\\ESRI\\conda\\envs\\CalAdaptINat\\Lib\\site-packages\\requests_cache\\session.py\u001b[0m, in \u001b[0;32m_send_and_cache\u001b[0m:\nLine \u001b[0;34m160\u001b[0m:   \u001b[36mself\u001b[39;49;00m.cache.save_response(response, actions.cache_key, actions.expires)\n",
      "File \u001b[0;34mC:\\Users\\annal\\AppData\\Local\\ESRI\\conda\\envs\\CalAdaptINat\\Lib\\site-packages\\requests_cache\\backends\\base.py\u001b[0m, in \u001b[0;32msave_response\u001b[0m:\nLine \u001b[0;34m59\u001b[0m:    \u001b[36mself\u001b[39;49;00m.responses[cache_key] = cached_response\n",
      "File \u001b[0;34mC:\\Users\\annal\\AppData\\Local\\ESRI\\conda\\envs\\CalAdaptINat\\Lib\\site-packages\\requests_cache\\backends\\sqlite.py\u001b[0m, in \u001b[0;32m__setitem__\u001b[0m:\nLine \u001b[0;34m208\u001b[0m:   serialized_value = \u001b[36mself\u001b[39;49;00m.serializer.dumps(value)\n",
      "\u001b[0;31mMemoryError\u001b[0m: \n\u001b[0;31m---------------------------------------------------------------------------\u001b[0m"
     ]
    }
   ],
   "source": [
    "# name = 'blackoak'\n",
    "# code = 'QUKE'\n",
    "# species = 'Quercus kelloggii'\n",
    "# taxon = 49919\n",
    "\n",
    "# name = 'soaproot'\n",
    "# code = 'CHPO'\n",
    "# species = 'Chlorogalum pomeridianum'\n",
    "# taxon = 47597\n",
    "\n",
    "# name = 'blackberry'\n",
    "# code = 'RUUR'\n",
    "# species = 'Rubus ursinus'\n",
    "# taxon = 53445\n",
    "\n",
    "# Specify criteria for observations\n",
    "# https://pyinaturalist.readthedocs.io/en/latest/modules/pyinaturalist.v1.observations.html#pyinaturalist.v1.observations.get_observations\n",
    "# my area = is roughly the AMLT stewardship area, change the four coordinate bounds to bound your study area\n",
    "response = get_observations(taxon_id=taxon, swlat = 36.077540, swlng = -122.605514, nelat = 37.381013, nelng = -120.292403, page='all', per_page=200, quality_grade='research')\n",
    "# response"
   ]
  },
  {
   "cell_type": "markdown",
   "metadata": {},
   "source": [
    "#### View the results in a pandas dataframe"
   ]
  },
  {
   "cell_type": "code",
   "execution_count": 124,
   "metadata": {},
   "outputs": [
    {
     "data": {
      "text/html": [
       "<div>\n",
       "<style scoped>\n",
       "    .dataframe tbody tr th:only-of-type {\n",
       "        vertical-align: middle;\n",
       "    }\n",
       "\n",
       "    .dataframe tbody tr th {\n",
       "        vertical-align: top;\n",
       "    }\n",
       "\n",
       "    .dataframe thead th {\n",
       "        text-align: right;\n",
       "    }\n",
       "</style>\n",
       "<table border=\"1\" class=\"dataframe\">\n",
       "  <thead>\n",
       "    <tr style=\"text-align: right;\">\n",
       "      <th></th>\n",
       "      <th>lat</th>\n",
       "      <th>lon</th>\n",
       "      <th>quality_grade</th>\n",
       "      <th>time_observed_at</th>\n",
       "      <th>species_guess</th>\n",
       "      <th>positional_accuracy</th>\n",
       "      <th>public_positional_accuracy</th>\n",
       "    </tr>\n",
       "  </thead>\n",
       "  <tbody>\n",
       "    <tr>\n",
       "      <th>0</th>\n",
       "      <td>37.181496</td>\n",
       "      <td>-121.845535</td>\n",
       "      <td>research</td>\n",
       "      <td>2009-12-31T14:27:00-08:00</td>\n",
       "      <td>Big Berry Manzanita</td>\n",
       "      <td>NaN</td>\n",
       "      <td>NaN</td>\n",
       "    </tr>\n",
       "    <tr>\n",
       "      <th>1</th>\n",
       "      <td>37.164092</td>\n",
       "      <td>-122.063336</td>\n",
       "      <td>research</td>\n",
       "      <td>None</td>\n",
       "      <td>Bonny Doon manzanita</td>\n",
       "      <td>NaN</td>\n",
       "      <td>28447.0</td>\n",
       "    </tr>\n",
       "    <tr>\n",
       "      <th>2</th>\n",
       "      <td>37.111142</td>\n",
       "      <td>-122.126218</td>\n",
       "      <td>research</td>\n",
       "      <td>2011-05-08T09:45:49-07:00</td>\n",
       "      <td>Santa Cruz Manzanita</td>\n",
       "      <td>NaN</td>\n",
       "      <td>28447.0</td>\n",
       "    </tr>\n",
       "    <tr>\n",
       "      <th>3</th>\n",
       "      <td>37.003917</td>\n",
       "      <td>-122.137798</td>\n",
       "      <td>research</td>\n",
       "      <td>2011-05-08T09:52:17-07:00</td>\n",
       "      <td>Bonny Doon manzanita</td>\n",
       "      <td>NaN</td>\n",
       "      <td>28447.0</td>\n",
       "    </tr>\n",
       "    <tr>\n",
       "      <th>4</th>\n",
       "      <td>37.055492</td>\n",
       "      <td>-122.143636</td>\n",
       "      <td>research</td>\n",
       "      <td>2011-05-08T10:05:05-07:00</td>\n",
       "      <td>Brittleleaf Manzanita</td>\n",
       "      <td>NaN</td>\n",
       "      <td>NaN</td>\n",
       "    </tr>\n",
       "    <tr>\n",
       "      <th>5</th>\n",
       "      <td>37.055561</td>\n",
       "      <td>-122.143207</td>\n",
       "      <td>research</td>\n",
       "      <td>2011-05-08T10:06:39-07:00</td>\n",
       "      <td>glossyleaf manzanita</td>\n",
       "      <td>NaN</td>\n",
       "      <td>NaN</td>\n",
       "    </tr>\n",
       "    <tr>\n",
       "      <th>6</th>\n",
       "      <td>37.147297</td>\n",
       "      <td>-121.776260</td>\n",
       "      <td>research</td>\n",
       "      <td>2011-09-03T10:19:18-07:00</td>\n",
       "      <td>Big Berry Manzanita</td>\n",
       "      <td>5.0</td>\n",
       "      <td>5.0</td>\n",
       "    </tr>\n",
       "    <tr>\n",
       "      <th>7</th>\n",
       "      <td>36.665211</td>\n",
       "      <td>-121.735924</td>\n",
       "      <td>research</td>\n",
       "      <td>None</td>\n",
       "      <td>toro manzanita</td>\n",
       "      <td>NaN</td>\n",
       "      <td>28505.0</td>\n",
       "    </tr>\n",
       "  </tbody>\n",
       "</table>\n",
       "</div>"
      ],
      "text/plain": [
       "         lat         lon  ... positional_accuracy public_positional_accuracy\n",
       "0  37.181496 -121.845535  ...                 NaN                        NaN\n",
       "1  37.164092 -122.063336  ...                 NaN                    28447.0\n",
       "2  37.111142 -122.126218  ...                 NaN                    28447.0\n",
       "3  37.003917 -122.137798  ...                 NaN                    28447.0\n",
       "4  37.055492 -122.143636  ...                 NaN                        NaN\n",
       "5  37.055561 -122.143207  ...                 NaN                        NaN\n",
       "6  37.147297 -121.776260  ...                 5.0                        5.0\n",
       "7  36.665211 -121.735924  ...                 NaN                    28505.0\n",
       "\n",
       "[8 rows x 7 columns]"
      ]
     },
     "execution_count": 124,
     "metadata": {},
     "output_type": "execute_result"
    }
   ],
   "source": [
    "# Select results from JSON Data, and normalize them\n",
    "# This flattens the nested iNat data structure and converts to pandas dataframe\n",
    "data = response['results']\n",
    "df = pd.json_normalize(data)\n",
    "\n",
    "# Split the location data into latitude and Longitude columns\n",
    "# this is the format of location col [38.8418469038, -123.0608224869]\n",
    "df['lat'] = df['location'].apply(lambda x:x[0])\n",
    "df['lon'] = df['location'].apply(lambda x:x[1])\n",
    "\n",
    "# Subset dataframe to include only the fields of interest\n",
    "df = df[['lat','lon','quality_grade','time_observed_at','scientific_name','common_name','positional_accuracy','public_positional_accuracy']]\n",
    "\n",
    "# Show the first 8 lines of the dataframe below cell\n",
    "df.head(8)"
   ]
  },
  {
   "cell_type": "markdown",
   "metadata": {},
   "source": [
    "#### Define a function to convert the dataframe into a feature class for use in ArcGIS Pro"
   ]
  },
  {
   "cell_type": "code",
   "execution_count": 125,
   "metadata": {},
   "outputs": [],
   "source": [
    "# This is a user-defined function to push dataframe into arcgis feature class\n",
    "def addData(fc, occurrences):\n",
    "    arcpy.management.DeleteRows(fc)\n",
    "    cursor = arcpy.da.InsertCursor(fc, [\"SHAPE@XY\",\"lat\",\"lon\",\"quality_grade\", \"time_observed_at\",\"species_guess\",\"positional_accuracy\",\"public_positional_accuracy\"])\n",
    "\n",
    "    for index, row in occurrences.iterrows():\n",
    "        xy = (row['lon'],row['lat'])\n",
    "        cursor.insertRow([xy,row['lat'], row['lon'], row['quality_grade'], row['time_observed_at'], row['species_guess'], row['positional_accuracy'],row['public_positional_accuracy']])\n",
    "    del cursor"
   ]
  },
  {
   "cell_type": "markdown",
   "metadata": {},
   "source": [
    "#### Create a feature class with the correct fields to hold the iNat data"
   ]
  },
  {
   "cell_type": "code",
   "execution_count": 126,
   "metadata": {},
   "outputs": [],
   "source": [
    "# Define your workspace and geodatabase\n",
    "workspace = \"D:/1_AMLT/2_Ethnobotanical_Data_Pro/iNaturalist/\"\n",
    "\n",
    "# If file geodatabase already exists, name of file geodatabase\n",
    "filegdbname = \"iNat.gdb\"\n",
    "filegdb = \"%s%s\" % (workspace, filegdbname)\n",
    "\n",
    "# # if file geodatabase does not exist, creates file geodatabase\n",
    "# if (arcpy.Exists(filegdb)) == False:\n",
    "#     arcpy.management.CreateFileGDB(workspace, filegdbname[:-4], \"CURRENT\")\n",
    "\n",
    "# We are creating a feature class within the geodatabase to add the iNat data to\n",
    "fc = name # ie \"blackoak\"\n",
    "fcPath = \"%s/%s\" % (filegdb, fc)\n",
    "\n",
    "# If feature class does not exist, create feature class\n",
    "if (arcpy.Exists(fcPath)) == False:\n",
    "    arcpy.management.CreateFeatureclass(filegdb, fc, \"POINT\", None, \"DISABLED\", \"DISABLED\", 'GEOGCS[\"GCS_WGS_1984\",DATUM[\"D_WGS_1984\",SPHEROID[\"WGS_1984\",6378137.0,298.257223563]],PRIMEM[\"Greenwich\",0.0],UNIT[\"Degree\",0.0174532925199433]];-400 -400 1000000000;-100000 10000;-100000 10000;8.98315284119521E-09;0.001;0.001;IsHighPrecision', '', 0, 0, 0, '')\n",
    "\n",
    "    # Fields to create in feature class\n",
    "    fields = (\"lat DOUBLE # # # #;\" +\n",
    "        \"lon DOUBLE # # # #;\" +\n",
    "        \"quality_grade TEXT # 255 # #;\" +\n",
    "        \"time_observed_at TEXT # 255 # #;\" +\n",
    "        \"species_guess TEXT # 255 # #;\" +\n",
    "        \"positional_accuracy DOUBLE # # # #;\" +\n",
    "        \"public_positional_accuracy DOUBLE # # # #\")\n",
    "\n",
    "    arcpy.management.AddFields(name, fields) \n"
   ]
  },
  {
   "cell_type": "markdown",
   "metadata": {},
   "source": [
    "#### Add iNat data from the dataframe to the newly created feature class"
   ]
  },
  {
   "cell_type": "code",
   "execution_count": 127,
   "metadata": {},
   "outputs": [
    {
     "name": "stdout",
     "output_type": "stream",
     "text": [
      "ARCT\n"
     ]
    }
   ],
   "source": [
    "addData(fcPath, df)"
   ]
  },
  {
   "cell_type": "markdown",
   "metadata": {},
   "source": [
    "### Processing iNat data for use in SAHM"
   ]
  },
  {
   "cell_type": "markdown",
   "metadata": {},
   "source": [
    "#### Project and clip iNat data"
   ]
  },
  {
   "cell_type": "code",
   "execution_count": 128,
   "metadata": {},
   "outputs": [
    {
     "name": "stdout",
     "output_type": "stream",
     "text": [
      "ARCT\n",
      "Total features in iNat database =  3552\n"
     ]
    }
   ],
   "source": [
    "print(code, name)\n",
    "# Project to my SDM projection and clip to study area\n",
    "output = \"D:/1_AMLT/1_SDM/SDM_Pro/SDM.gdb/iNat_\" + code\n",
    "area = \"D:/1_AMLT/1_SDM/SDM_Pro/SDM.gdb/BoundingBox\" \n",
    "outsr = arcpy.Describe(area).spatialReference\n",
    "\n",
    "arcpy.management.Project(fcPath, output, outsr)\n",
    "\n",
    "# # Clip to study area boundary if necessary\n",
    "# inat = output + \"_SDM\"\n",
    "# arcpy.analysis.Clip(output, area, inat)\n",
    "\n",
    "# print number of records/points\n",
    "result = arcpy.GetCount_management(output)\n",
    "count = int(result.getOutput(0))\n",
    "print('Total features in iNat database = ', count)"
   ]
  },
  {
   "cell_type": "markdown",
   "metadata": {},
   "source": [
    "#### Get any points from my ethnobotanical data\n",
    "Note: this will not work on your computer as it is a confidential dataset.\n",
    "You may adapt this block to any private/local location datasets that you may have. "
   ]
  },
  {
   "cell_type": "code",
   "execution_count": 129,
   "metadata": {},
   "outputs": [
    {
     "name": "stdout",
     "output_type": "stream",
     "text": [
      "ARCT\n",
      "Species LIKE '%Arctostaphylos%'\n",
      "Creating My_ARCT_forSAHM\n",
      "Total features in ethnobot database =  7\n"
     ]
    }
   ],
   "source": [
    "print(code, name)\n",
    "# this layer has to be in the active map\n",
    "# select from the layer by species name\n",
    "ethnobot = \"All_EthnobotData_Merged_012521\"\n",
    "\n",
    "search = \"Species LIKE '%\" + species + \"%'\"\n",
    "print(search)\n",
    "\n",
    "arcpy.management.SelectLayerByAttribute(ethnobot, \"NEW_SELECTION\", search)\n",
    "\n",
    "# export data\n",
    "gdb = \"D:/1_AMLT/1_SDM/SDM_Pro/SDM.gdb/\"\n",
    "out_name = \"My_\" + code + \"_forSAHM\"\n",
    "\n",
    "print('Creating ' + out_name)\n",
    "arcpy.conversion.FeatureClassToFeatureClass(ethnobot, gdb, out_name)\n",
    "\n",
    "# clear selection\n",
    "arcpy.management.SelectLayerByAttribute(ethnobot, \"CLEAR_SELECTION\")\n",
    "\n",
    "# print number of records/points\n",
    "result = arcpy.GetCount_management(out_name)\n",
    "count = int(result.getOutput(0))\n",
    "print('Total features in my database = ', count)"
   ]
  },
  {
   "cell_type": "markdown",
   "metadata": {},
   "source": [
    "#### Merge iNat and personal data\n",
    "And print the total number of location points"
   ]
  },
  {
   "cell_type": "code",
   "execution_count": 130,
   "metadata": {},
   "outputs": [
    {
     "name": "stdout",
     "output_type": "stream",
     "text": [
      "ARCT\n",
      "Merging inat and ethnobot db into one output\n",
      "Total features in combined layer =  3559\n"
     ]
    }
   ],
   "source": [
    "print(code)\n",
    "# merge the two into one in SDM.gdb, saved as 'All_****_forSAHM'\n",
    "inat = \"D:/1_AMLT/1_SDM/SDM_Pro/SDM.gdb/iNat_\" + code\n",
    "ethno = \"D:/1_AMLT/1_SDM/SDM_Pro/SDM.gdb/My_\" + code + \"_forSAHM\"\n",
    "allpoints = \"D:/1_AMLT/1_SDM/SDM_Pro/SDM.gdb/All_\" + code + \"_forSAHM\"\n",
    "\n",
    "print('Merging inat and ethnobot db into one output')\n",
    "arcpy.management.Merge([inat, ethno], allpoints)\n",
    "\n",
    "# print number of records/points\n",
    "result = arcpy.GetCount_management(allpoints)\n",
    "count = int(result.getOutput(0))\n",
    "print('Total features in combined layer = ', count)\n",
    "# this fc is ready to use, already in WGS84 (best for SAHM)"
   ]
  },
  {
   "cell_type": "markdown",
   "metadata": {},
   "source": [
    "#### Add a field called 'code' and set to 1\n",
    "This is necessary for location input data in SAHM"
   ]
  },
  {
   "cell_type": "code",
   "execution_count": 131,
   "metadata": {},
   "outputs": [
    {
     "name": "stdout",
     "output_type": "stream",
     "text": [
      "ARCT\n",
      "Field added\n"
     ]
    }
   ],
   "source": [
    "print(code)\n",
    "# allpoints = \"D:/1_AMLT/1_SDM/SDM_Pro/SDM.gdb/All_\" + code + \"_forSAHM\"\n",
    "# add field named as species code\n",
    "arcpy.AddField_management(allpoints, code, \"LONG\")\n",
    "# set to one\n",
    "arcpy.management.CalculateField(allpoints, code, 1)\n",
    "print('Field added')"
   ]
  },
  {
   "cell_type": "markdown",
   "metadata": {},
   "source": [
    "### Remove location points that fall within the same analysis cell"
   ]
  },
  {
   "cell_type": "markdown",
   "metadata": {},
   "source": [
    "#### Convert point data to raster\n",
    "Processing environment = template raster for projection, cell size, snapping, and extent. \n",
    "Use code field as value, cell assignment rule = max"
   ]
  },
  {
   "cell_type": "code",
   "execution_count": 132,
   "metadata": {},
   "outputs": [
    {
     "name": "stdout",
     "output_type": "stream",
     "text": [
      "ARCT\n",
      "Raster created\n"
     ]
    }
   ],
   "source": [
    "print(code)\n",
    "# Convert these points to a raster\n",
    "template = r\"D:\\1_AMLT\\1_SDM\\SAHM\\CovariatesFinal\\bio_1_temp.tif\"\n",
    "pointras = r\"D:\\1_AMLT\\1_SDM\\SDM_Pro\\SDM.gdb\\All_\" + code + \"_forSAHM_Raster\"\n",
    "\n",
    "with arcpy.EnvManager(snapRaster=template, cellSize=template):\n",
    "    arcpy.conversion.PointToRaster(allpoints, code, pointras, \"MAXIMUM\",\"NONE\", template, \"BUILD\")\n",
    "\n",
    "print('Raster created')"
   ]
  },
  {
   "cell_type": "markdown",
   "metadata": {},
   "source": [
    "#### Convert that raster to points\n",
    "Using centroids, print number of remaining points"
   ]
  },
  {
   "cell_type": "code",
   "execution_count": 133,
   "metadata": {
    "scrolled": true
   },
   "outputs": [
    {
     "name": "stdout",
     "output_type": "stream",
     "text": [
      "ARCT\n",
      "Points from raster created\n",
      "Total features in final point layer =  1447\n"
     ]
    }
   ],
   "source": [
    "print(code)\n",
    "# convert raster to points (centroids)\n",
    "finalpoints = r\"D:\\1_AMLT\\1_SDM\\SDM_Pro\\SDM.gdb\\All_\" + code + \"_forSAHM_FromRaster\"\n",
    "\n",
    "arcpy.conversion.RasterToPoint(pointras, finalpoints)\n",
    "print('Points from raster created')\n",
    "\n",
    "# print number of records/points\n",
    "result = arcpy.GetCount_management(finalpoints)\n",
    "count = int(result.getOutput(0))\n",
    "print('Total features in final point layer = ', count)"
   ]
  },
  {
   "cell_type": "markdown",
   "metadata": {},
   "source": [
    "### Add final fields needed in the locations csv file"
   ]
  },
  {
   "cell_type": "markdown",
   "metadata": {},
   "source": [
    "#### Add fields for lat as y, long as x in WGS84, responseBinary with 1s, species code column with 1s, export as csv"
   ]
  },
  {
   "cell_type": "code",
   "execution_count": 2,
   "metadata": {},
   "outputs": [
    {
     "name": "stdout",
     "output_type": "stream",
     "text": [
      "PLAN\n",
      "Fields added\n",
      "Exported to csv\n"
     ]
    }
   ],
   "source": [
    "print(code)\n",
    "sppLocation = r\"D:\\1_AMLT\\1_SDM\\SAHM\\SpeciesLocations\"\n",
    "csvfile = \"All_\" + code + \"_forSAHM_FromRaster.csv\"\n",
    "\n",
    "# add field named as species code\n",
    "arcpy.AddField_management(finalpoints, code, \"LONG\")\n",
    "# set to one\n",
    "arcpy.management.CalculateField(finalpoints, code, 1)\n",
    "\n",
    "# add field named responseBinary\n",
    "arcpy.AddField_management(finalpoints, 'resposeBinary', \"LONG\")\n",
    "# set to one\n",
    "arcpy.management.CalculateField(finalpoints, 'resposeBinary', 1)\n",
    "\n",
    "# add fields x and y\n",
    "arcpy.AddField_management(finalpoints, 'x', \"DOUBLE\")\n",
    "arcpy.AddField_management(finalpoints, 'y', \"DOUBLE\")\n",
    "# calculate lat and long coordinate values in WGS84\n",
    "arcpy.management.CalculateGeometryAttributes(finalpoints, \"x POINT_X;y POINT_Y\", '', '', 'GEOGCS[\"GCS_WGS_1984\",DATUM[\"D_WGS_1984\",SPHEROID[\"WGS_1984\",6378137.0,298.257223563]],PRIMEM[\"Greenwich\",0.0],UNIT[\"Degree\",0.0174532925199433]]', \"DD\")\n",
    "\n",
    "print('Fields added')\n",
    "\n",
    "# deleting three unnecessary fields\n",
    "arcpy.DeleteField_management(finalpoints, [\"grid_code\", \"pointid\", \"bio_1_temp_1\"])\n",
    "\n",
    "# Export the table to a csv file for input into SAHM\n",
    "arcpy.TableToTable_conversion(finalpoints, sppLocation, csvfile)\n",
    "print('Exported to csv')"
   ]
  }
 ],
 "metadata": {
  "kernelspec": {
   "display_name": "Python 3 (ipykernel)",
   "language": "python",
   "name": "python3"
  },
  "language_info": {
   "codemirror_mode": {
    "name": "ipython",
    "version": 3
   },
   "file_extension": ".py",
   "mimetype": "text/x-python",
   "name": "python",
   "nbconvert_exporter": "python",
   "pygments_lexer": "ipython3",
   "version": "3.9.7"
  }
 },
 "nbformat": 4,
 "nbformat_minor": 2
}
